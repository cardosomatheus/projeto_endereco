{
 "cells": [
  {
   "cell_type": "code",
   "execution_count": 1,
   "metadata": {},
   "outputs": [],
   "source": [
    "#   Bibliotecas\n",
    "import pandas as pd\n",
    "from conexao_oracle import conexao_local_host\n",
    "\n",
    "#   ABERTURA DO ARQUIVO\n",
    "dados = pd.read_csv('tbl_cep_201805_csv.csv',encoding=\"ISO-8859-1\")"
   ]
  },
  {
   "cell_type": "code",
   "execution_count": 2,
   "metadata": {},
   "outputs": [],
   "source": [
    "#   Filtrando colunas, os nulos e codigos ibge repetidos para a inserção de registros\n",
    "dados_filtrado = dados[['cidade_ibge','estado','cidade','cidade_area']]\n",
    "dados_filtrado.dropna(subset=['cidade'])\n",
    "cidades = dados_filtrado.drop_duplicates(subset='cidade_ibge',)\n"
   ]
  },
  {
   "cell_type": "code",
   "execution_count": 3,
   "metadata": {},
   "outputs": [
    {
     "data": {
      "text/html": [
       "<div>\n",
       "<style scoped>\n",
       "    .dataframe tbody tr th:only-of-type {\n",
       "        vertical-align: middle;\n",
       "    }\n",
       "\n",
       "    .dataframe tbody tr th {\n",
       "        vertical-align: top;\n",
       "    }\n",
       "\n",
       "    .dataframe thead th {\n",
       "        text-align: right;\n",
       "    }\n",
       "</style>\n",
       "<table border=\"1\" class=\"dataframe\">\n",
       "  <thead>\n",
       "    <tr style=\"text-align: right;\">\n",
       "      <th></th>\n",
       "      <th>cidade_ibge</th>\n",
       "      <th>estado</th>\n",
       "      <th>cidade</th>\n",
       "      <th>cidade_area</th>\n",
       "    </tr>\n",
       "  </thead>\n",
       "  <tbody>\n",
       "    <tr>\n",
       "      <th>0</th>\n",
       "      <td>3550308</td>\n",
       "      <td>SP</td>\n",
       "      <td>São Paulo</td>\n",
       "      <td>1521.110</td>\n",
       "    </tr>\n",
       "    <tr>\n",
       "      <th>49314</th>\n",
       "      <td>3534401</td>\n",
       "      <td>SP</td>\n",
       "      <td>Osasco</td>\n",
       "      <td>64.954</td>\n",
       "    </tr>\n",
       "    <tr>\n",
       "      <th>53265</th>\n",
       "      <td>3510609</td>\n",
       "      <td>SP</td>\n",
       "      <td>Carapicuíba</td>\n",
       "      <td>34.546</td>\n",
       "    </tr>\n",
       "    <tr>\n",
       "      <th>55375</th>\n",
       "      <td>3505708</td>\n",
       "      <td>SP</td>\n",
       "      <td>Barueri</td>\n",
       "      <td>65.701</td>\n",
       "    </tr>\n",
       "    <tr>\n",
       "      <th>57052</th>\n",
       "      <td>3547304</td>\n",
       "      <td>SP</td>\n",
       "      <td>Santana de Parnaíba</td>\n",
       "      <td>179.949</td>\n",
       "    </tr>\n",
       "    <tr>\n",
       "      <th>...</th>\n",
       "      <td>...</td>\n",
       "      <td>...</td>\n",
       "      <td>...</td>\n",
       "      <td>...</td>\n",
       "    </tr>\n",
       "    <tr>\n",
       "      <th>1108488</th>\n",
       "      <td>4305371</td>\n",
       "      <td>RS</td>\n",
       "      <td>Charrua</td>\n",
       "      <td>198.124</td>\n",
       "    </tr>\n",
       "    <tr>\n",
       "      <th>1108490</th>\n",
       "      <td>4300059</td>\n",
       "      <td>RS</td>\n",
       "      <td>Água Santa</td>\n",
       "      <td>291.902</td>\n",
       "    </tr>\n",
       "    <tr>\n",
       "      <th>1108495</th>\n",
       "      <td>4305504</td>\n",
       "      <td>RS</td>\n",
       "      <td>Ciríaco</td>\n",
       "      <td>273.873</td>\n",
       "    </tr>\n",
       "    <tr>\n",
       "      <th>1108500</th>\n",
       "      <td>4306304</td>\n",
       "      <td>RS</td>\n",
       "      <td>David Canabarro</td>\n",
       "      <td>174.939</td>\n",
       "    </tr>\n",
       "    <tr>\n",
       "      <th>1108503</th>\n",
       "      <td>4312625</td>\n",
       "      <td>RS</td>\n",
       "      <td>Muliterno</td>\n",
       "      <td>111.132</td>\n",
       "    </tr>\n",
       "  </tbody>\n",
       "</table>\n",
       "<p>5382 rows × 4 columns</p>\n",
       "</div>"
      ],
      "text/plain": [
       "         cidade_ibge estado               cidade  cidade_area\n",
       "0            3550308     SP            São Paulo     1521.110\n",
       "49314        3534401     SP               Osasco       64.954\n",
       "53265        3510609     SP          Carapicuíba       34.546\n",
       "55375        3505708     SP              Barueri       65.701\n",
       "57052        3547304     SP  Santana de Parnaíba      179.949\n",
       "...              ...    ...                  ...          ...\n",
       "1108488      4305371     RS              Charrua      198.124\n",
       "1108490      4300059     RS           Água Santa      291.902\n",
       "1108495      4305504     RS              Ciríaco      273.873\n",
       "1108500      4306304     RS      David Canabarro      174.939\n",
       "1108503      4312625     RS            Muliterno      111.132\n",
       "\n",
       "[5382 rows x 4 columns]"
      ]
     },
     "execution_count": 3,
     "metadata": {},
     "output_type": "execute_result"
    }
   ],
   "source": [
    "#    visualização do DataFrame\n",
    "cidades"
   ]
  },
  {
   "cell_type": "code",
   "execution_count": null,
   "metadata": {},
   "outputs": [],
   "source": []
  },
  {
   "cell_type": "code",
   "execution_count": 4,
   "metadata": {},
   "outputs": [],
   "source": [
    "#   Iteravel para a inserção de registros na tabela TB_CIDADE\n",
    "for index,linha in cidades.iterrows():\n",
    "    conexao = conexao_local_host()\n",
    "    cursor = conexao.cursor()\n",
    "    sql = \"\"\"INSERT INTO TB_CIDADE (COD_IBGE,SIGLA_UF, CIDADE,CIDADE_AREA)  \n",
    "                            VALUES (:COD_IBGE,:SIGLA_UF,:CIDADE,:CIDADE_AREA)\"\"\"\n",
    "    try:\n",
    "        conexao.autocommit=True\n",
    "        cursor.execute(sql,[float(linha[0]),linha[1],linha[2],float(linha[3])])\n",
    "        print(linha)\n",
    "        \n",
    "    except:\n",
    "        print('ERROR INESPERADO EM:',linha)\n",
    "        pass\n"
   ]
  }
 ],
 "metadata": {
  "kernelspec": {
   "display_name": "Python 3",
   "language": "python",
   "name": "python3"
  },
  "language_info": {
   "codemirror_mode": {
    "name": "ipython",
    "version": 3
   },
   "file_extension": ".py",
   "mimetype": "text/x-python",
   "name": "python",
   "nbconvert_exporter": "python",
   "pygments_lexer": "ipython3",
   "version": "3.11.2"
  },
  "orig_nbformat": 4,
  "vscode": {
   "interpreter": {
    "hash": "71ddef87ec7c4f69a2c3ec111b611ee05b8665b74ee3cad374b6e478327ca655"
   }
  }
 },
 "nbformat": 4,
 "nbformat_minor": 2
}
