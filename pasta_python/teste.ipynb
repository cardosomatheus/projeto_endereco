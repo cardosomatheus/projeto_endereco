{
 "cells": [
  {
   "cell_type": "code",
   "execution_count": 46,
   "metadata": {},
   "outputs": [],
   "source": [
    "import pandas as pd\n",
    "from datetime import timedelta, date, time, datetime\n",
    "#import datetime\n",
    "from random import randint\n",
    "dados = pd.read_csv('grupos.csv')"
   ]
  },
  {
   "cell_type": "code",
   "execution_count": 9,
   "metadata": {},
   "outputs": [],
   "source": [
    "dados.rename(columns={\"name\": \"nome\", \"classification\": \"genero\"}, inplace=True)"
   ]
  },
  {
   "cell_type": "code",
   "execution_count": 53,
   "metadata": {},
   "outputs": [],
   "source": [
    "hora = time(00, 00, 0)"
   ]
  },
  {
   "cell_type": "code",
   "execution_count": 60,
   "metadata": {},
   "outputs": [
    {
     "data": {
      "text/plain": [
       "datetime.datetime(1952, 1, 9, 0, 0)"
      ]
     },
     "execution_count": 60,
     "metadata": {},
     "output_type": "execute_result"
    }
   ],
   "source": [
    "def data_nascimento():\n",
    "    __menor_data = date.today().replace(year = date.today().year - 80)\n",
    "    __maior_data = date.today().replace(year = date.today().year - 18)\n",
    "    \n",
    "    diferenca_entre_datas  = __maior_data - __menor_data\n",
    "    dias_aleatorio = randint(0, diferenca_entre_datas.days)\n",
    "    data_desejada =  __menor_data + timedelta(days=dias_aleatorio)\n",
    "    data_combinacao =datetime.combine(data_desejada, hora)\n",
    "    return data_combinacao\n",
    "\n",
    "\n",
    "data_nascimento()"
   ]
  },
  {
   "cell_type": "code",
   "execution_count": 31,
   "metadata": {},
   "outputs": [
    {
     "data": {
      "text/plain": [
       "Index(['col1'], dtype='object')"
      ]
     },
     "execution_count": 31,
     "metadata": {},
     "output_type": "execute_result"
    }
   ],
   "source": [
    "df = pd.DataFrame({\n",
    "    'col1': ['valor1', 'valor2', 'valor3']\n",
    "})\n",
    "df.columns"
   ]
  }
 ],
 "metadata": {
  "kernelspec": {
   "display_name": "Python 3",
   "language": "python",
   "name": "python3"
  },
  "language_info": {
   "codemirror_mode": {
    "name": "ipython",
    "version": 3
   },
   "file_extension": ".py",
   "mimetype": "text/x-python",
   "name": "python",
   "nbconvert_exporter": "python",
   "pygments_lexer": "ipython3",
   "version": "3.11.8"
  }
 },
 "nbformat": 4,
 "nbformat_minor": 2
}
